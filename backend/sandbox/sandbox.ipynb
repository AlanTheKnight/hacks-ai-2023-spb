{
 "cells": [
  {
   "cell_type": "code",
   "execution_count": 88,
   "metadata": {},
   "outputs": [],
   "source": [
    "from pptx import Presentation\n",
    "from pptx.util import Inches, Pt\n",
    "from pptx.enum.dml import MSO_FILL_TYPE, MSO_THEME_COLOR\n",
    "from pptx.enum.text import MSO_ANCHOR\n",
    "from pptx.dml.color import RGBColor"
   ]
  },
  {
   "cell_type": "code",
   "execution_count": 101,
   "metadata": {},
   "outputs": [],
   "source": [
    "data = {\n",
    "    \"name\": \"MathUp\",\n",
    "    \"brief\": \"Приложение для запоминания математических формул\",\n",
    "    \"bg\": {\n",
    "        \"type\": \"gradient\",\n",
    "        \"color1\": \"a3fff9\",\n",
    "        \"color2\": \"a3b4ff\",\n",
    "        \"angle\": 45,\n",
    "    },\n",
    "    \"logo\": {\"size\": 0.7, \"path\": \"logo.png\"},\n",
    "    \"font\": {\"name\": \"VK Sans Display\", \"title_size\": 50, \"regular_size\": 38},\n",
    "}\n",
    "\n",
    "PRESENTATION_WIDTH = Inches(16)\n",
    "PRESENTATION_HEIGHT = Inches(9)"
   ]
  },
  {
   "cell_type": "code",
   "execution_count": 102,
   "metadata": {},
   "outputs": [],
   "source": [
    "def add_custom_logo(presentation, slide):\n",
    "    border_offset = Inches(0.25) + Inches(data[\"logo\"][\"size\"])\n",
    "\n",
    "    slide.shapes.add_picture(\n",
    "        data[\"logo\"][\"path\"],\n",
    "        presentation.slide_width - border_offset,\n",
    "        presentation.slide_height - border_offset,\n",
    "        width=Inches(data[\"logo\"][\"size\"]),\n",
    "    )"
   ]
  },
  {
   "cell_type": "code",
   "execution_count": 103,
   "metadata": {},
   "outputs": [],
   "source": [
    "from pptx.dml.color import RGBColor\n",
    "\n",
    "\n",
    "def apply_text_formatting(\n",
    "    obj, color: str = \"000000\", bold: bool = False, is_title: bool = False\n",
    "):\n",
    "    obj.text_frame.paragraphs[0].font.name = data[\"font\"][\"name\"]\n",
    "    obj.text_frame.paragraphs[0].font.bold = bold\n",
    "    obj.text_frame.paragraphs[0].font.color.rgb = RGBColor.from_string(color)\n",
    "    font_size = data[\"font\"][\"title_size\"] if is_title else data[\"font\"][\"regular_size\"]\n",
    "    obj.text_frame.paragraphs[0].font.size = Pt(font_size)"
   ]
  },
  {
   "cell_type": "code",
   "execution_count": 105,
   "metadata": {},
   "outputs": [],
   "source": [
    "# Create a new presentation object\n",
    "prs = Presentation()\n",
    "prs.slide_width = PRESENTATION_WIDTH\n",
    "prs.slide_height = PRESENTATION_HEIGHT\n",
    "\n",
    "# Define slide layout (0 is the layout for a title slide)\n",
    "slide_layout = prs.slide_layouts[0]\n",
    "\n",
    "# Add a slide with the defined layout\n",
    "slide = prs.slides.add_slide(slide_layout)\n",
    "\n",
    "background = slide.background\n",
    "fill = background.fill\n",
    "\n",
    "\n",
    "# SLIDE BACKGROUND\n",
    "if data[\"bg\"][\"type\"] == \"gradient\":\n",
    "    fill.gradient()\n",
    "    fill.gradient_stops[0].color.rgb = RGBColor.from_string(data[\"bg\"][\"color1\"])\n",
    "    fill.gradient_stops[1].color.rgb = RGBColor.from_string(data[\"bg\"][\"color2\"])\n",
    "    fill.gradient_angle = data[\"bg\"][\"angle\"]\n",
    "elif data[\"bg\"][\"type\"] == \"solid\":\n",
    "    fill.solid()\n",
    "    fill.fore_color.rgb = RGBColor.from_string(data[\"bg\"][\"color\"])\n",
    "\n",
    "\n",
    "title = slide.shapes.title\n",
    "subtitle = slide.placeholders[1]\n",
    "\n",
    "title.text = data[\"name\"]\n",
    "title.width = PRESENTATION_WIDTH - Inches(2)\n",
    "title.left = Inches(1)\n",
    "title.top = Inches(3.5)\n",
    "\n",
    "subtitle.text = data[\"brief\"]\n",
    "subtitle.width = Inches(14)\n",
    "subtitle.left = Inches(1)\n",
    "subtitle.top = Inches(3.5) + Inches(1)\n",
    "\n",
    "apply_text_formatting(title, bold=True, is_title=True)\n",
    "apply_text_formatting(subtitle)\n",
    "\n",
    "add_custom_logo(prs, slide)\n",
    "\n",
    "# Save the presentation\n",
    "prs.save(\"test_presentation.pptx\")"
   ]
  }
 ],
 "metadata": {
  "kernelspec": {
   "display_name": "backend-bmwjD228-py3.11",
   "language": "python",
   "name": "python3"
  },
  "language_info": {
   "codemirror_mode": {
    "name": "ipython",
    "version": 3
   },
   "file_extension": ".py",
   "mimetype": "text/x-python",
   "name": "python",
   "nbconvert_exporter": "python",
   "pygments_lexer": "ipython3",
   "version": "3.11.4"
  },
  "orig_nbformat": 4
 },
 "nbformat": 4,
 "nbformat_minor": 2
}
